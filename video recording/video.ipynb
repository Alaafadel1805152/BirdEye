{
 "cells": [
  {
   "cell_type": "code",
   "execution_count": null,
   "id": "37000a2f",
   "metadata": {},
   "outputs": [],
   "source": [
    "import cv2\n",
    "from cv2 import VideoWriter\n",
    "from cv2 import VideoWriter_fourcc\n",
    "import sounddevice as sd\n",
    "from scipy.io.wavfile import write\n",
    "import wavio as wv\n",
    "\n",
    "# open the webcam video stream\n",
    "webcam = cv2.VideoCapture(0)\n",
    "\n",
    "# open output video file stream\n",
    "video = VideoWriter('webcam.avi', VideoWriter_fourcc(*'MP42'), 25.0, (640, 480))\n",
    "\n",
    "# main loop\n",
    "while True:\n",
    "    # get the frame from the webcam\n",
    "    stream_ok, frame = webcam.read()\n",
    "    \n",
    "    # if webcam stream is ok\n",
    "    if stream_ok:\n",
    "        # display current frame\n",
    "        cv2.imshow('Webcam', frame)\n",
    "        \n",
    "        # write frame to the video file\n",
    "        video.write(frame)\n",
    "        sd.wait()\n",
    "  \n",
    "        # This will convert the NumPy array to an audio\n",
    "        # file with the given sampling frequency\n",
    "        write(\"video.wav\", freq, recording)\n",
    "  \n",
    "        # Convert the NumPy array to audio file\n",
    "        wv.write(\"video\", recording, freq, sampwidth=2)\n",
    "\n",
    "        # escape condition\n",
    "        if cv2.waitKey(1) & 0xFF == 27: break\n",
    "\n",
    "# clean ups\n",
    "cv2.destroyAllWindows()\n",
    "\n",
    "# release web camera stream\n",
    "webcam.release()\n",
    "\n",
    "# release video output file stream\n",
    "video.release()"
   ]
  },
  {
   "cell_type": "code",
   "execution_count": null,
   "id": "07b688b1",
   "metadata": {},
   "outputs": [],
   "source": []
  }
 ],
 "metadata": {
  "kernelspec": {
   "display_name": "Python 3",
   "language": "python",
   "name": "python3"
  },
  "language_info": {
   "codemirror_mode": {
    "name": "ipython",
    "version": 3
   },
   "file_extension": ".py",
   "mimetype": "text/x-python",
   "name": "python",
   "nbconvert_exporter": "python",
   "pygments_lexer": "ipython3",
   "version": "3.6.13"
  }
 },
 "nbformat": 4,
 "nbformat_minor": 5
}
