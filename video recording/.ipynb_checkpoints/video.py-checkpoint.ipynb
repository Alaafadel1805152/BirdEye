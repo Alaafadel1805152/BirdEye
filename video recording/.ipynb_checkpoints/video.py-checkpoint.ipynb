{
 "cells": [
  {
   "cell_type": "code",
   "execution_count": null,
   "id": "71fe261a",
   "metadata": {},
   "outputs": [],
   "source": [
    "import cv2\n",
    "from cv2 import VideoWriter\n",
    "from cv2 import VideoWriter_fourcc\n",
    "\n",
    "\n",
    "# open the webcam video stream\n",
    "webcam = cv2.VideoCapture(0)\n",
    "freq = 44100\n",
    "duration = 60\n",
    "\n",
    "# open output video file stream\n",
    "video = VideoWriter('webcam.avi', VideoWriter_fourcc(*'MP42'), 25.0, (640, 480))\n",
    "while True:\n",
    "    # get the frame from the webcam\n",
    "    stream_ok, frame = webcam.read()\n",
    "    \n",
    "    # if webcam stream is ok\n",
    "    if stream_ok:\n",
    "        # display current frame\n",
    "        cv2.imshow('Webcam', frame)\n",
    "        \n",
    "        # write frame to the video file\n",
    "        video.write(frame)\n"
   ]
  }
 ],
 "metadata": {
  "kernelspec": {
   "display_name": "Python 3 (ipykernel)",
   "language": "python",
   "name": "python3"
  },
  "language_info": {
   "codemirror_mode": {
    "name": "ipython",
    "version": 3
   },
   "file_extension": ".py",
   "mimetype": "text/x-python",
   "name": "python",
   "nbconvert_exporter": "python",
   "pygments_lexer": "ipython3",
   "version": "3.9.7"
  }
 },
 "nbformat": 4,
 "nbformat_minor": 5
}
