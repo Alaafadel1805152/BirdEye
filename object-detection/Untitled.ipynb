{
 "cells": [
  {
   "cell_type": "code",
   "execution_count": 1,
   "id": "4eb7a2e9",
   "metadata": {},
   "outputs": [
    {
     "ename": "ModuleNotFoundError",
     "evalue": "No module named 'cv2'",
     "output_type": "error",
     "traceback": [
      "\u001b[1;31m---------------------------------------------------------------------------\u001b[0m",
      "\u001b[1;31mModuleNotFoundError\u001b[0m                       Traceback (most recent call last)",
      "\u001b[1;32m~\\AppData\\Local\\Temp/ipykernel_8136/1429292408.py\u001b[0m in \u001b[0;36m<module>\u001b[1;34m\u001b[0m\n\u001b[1;32m----> 1\u001b[1;33m \u001b[1;32mimport\u001b[0m \u001b[0mcv2\u001b[0m \u001b[1;32mas\u001b[0m \u001b[0mcv\u001b[0m\u001b[1;33m\u001b[0m\u001b[1;33m\u001b[0m\u001b[0m\n\u001b[0m\u001b[0;32m      2\u001b[0m \u001b[1;32mimport\u001b[0m \u001b[0mnumpy\u001b[0m \u001b[1;32mas\u001b[0m \u001b[0mnp\u001b[0m\u001b[1;33m\u001b[0m\u001b[1;33m\u001b[0m\u001b[0m\n\u001b[0;32m      3\u001b[0m \u001b[1;33m\u001b[0m\u001b[0m\n\u001b[0;32m      4\u001b[0m \u001b[0mcap\u001b[0m \u001b[1;33m=\u001b[0m \u001b[0mcv\u001b[0m\u001b[1;33m.\u001b[0m\u001b[0mVideoCapture\u001b[0m\u001b[1;33m(\u001b[0m\u001b[1;36m0\u001b[0m\u001b[1;33m)\u001b[0m\u001b[1;33m\u001b[0m\u001b[1;33m\u001b[0m\u001b[0m\n\u001b[0;32m      5\u001b[0m \u001b[0mwhT\u001b[0m \u001b[1;33m=\u001b[0m \u001b[1;36m320\u001b[0m\u001b[1;33m\u001b[0m\u001b[1;33m\u001b[0m\u001b[0m\n",
      "\u001b[1;31mModuleNotFoundError\u001b[0m: No module named 'cv2'"
     ]
    }
   ],
   "source": [
    "import cv2 as cv\n",
    "import numpy as np\n",
    "\n",
    "cap = cv.VideoCapture(0)\n",
    "whT = 320\n",
    "confThreshold = 0.5\n",
    "nmsThreshold = 0.2\n",
    "\n",
    "#### LOAD MODEL\n",
    "## Coco Names\n",
    "classesFile = \"coco.names\"\n",
    "classNames =[]\n",
    "with open(classesFile, 'rt') as f:\n",
    "    classNames = f.read().splitlines()\n",
    "\n",
    "## Model Files\n",
    "modelConfiguration = \"yolov3-320.cfg\"\n",
    "modelWeights = \"yolov3.weights\"\n",
    "net = cv.dnn.readNetFromDarknet(modelConfiguration, modelWeights)   #create network\n",
    "net.setPreferableBackend(cv.dnn.DNN_BACKEND_OPENCV)\n",
    "net.setPreferableTarget(cv.dnn.DNN_TARGET_CPU)\n",
    "\n",
    "\n",
    "def findObjects(outputs, img):\n",
    "    hT, wT, cT = img.shape\n",
    "    bbox =[]         ##contain x-y depth and height\n",
    "    classIds =[]\n",
    "    confs = []\n",
    "    for output in outputs:\n",
    "        for det in output:\n",
    "            scores = det [5:]\n",
    "            classId = np.argmax(scores)\n",
    "            confidence = scores[classId]\n",
    "            # print(classId)\n",
    "            # print(confidence)\n",
    "            if confidence > confThreshold:\n",
    "                w, h = int(det[2]*wT) , int(det[3]*hT)\n",
    "                x, y=int((det [0]*wT)-w/2) , int((det[1]*hT)-h/2)\n",
    "                bbox.append( [x,y,w,h])\n",
    "                if classId==67:\n",
    "                    print('alert!!!')\n",
    "                classIds.append(classId)\n",
    "                confs.append(float(confidence))\n",
    "\n",
    "\n",
    "\n",
    "    indices = cv.dnn.NMSBoxes(bbox, confs, confThreshold, nmsThreshold)\n",
    "    for i in indices:\n",
    "        box = bbox[i]\n",
    "        x,y,w,h= box [0],box[1],box[2],box[3]\n",
    "        # print(x,y,w,h)\n",
    "        cv.rectangle(img, (x, y), (x + w, y + h), (255, 0, 255), 2)\n",
    "        cv.putText(img, f'{classNames [classIds[i]].upper()} {int(confs[i]*100)}%',\n",
    "        (x, y - 10), cv.FONT_HERSHEY_SIMPLEX, 0.6, (255, 0, 255), 2)\n",
    "\n",
    "while True:\n",
    "        success, img = cap.read()\n",
    "        blob = cv.dnn.blobFromImage(img, 1 / 255, (whT, whT), [0,0,0],1,crop=False)      ###network accept input in type blob, so change image to blob here ##whT, whT=>width and wight and target\n",
    "        net.setInput(blob)\n",
    "        layersNames = net.getLayerNames()  ###names of all our layers(extraction layer , out put layers)\n",
    "        outputNames=[]\n",
    "\n",
    "        outputNames = [(layersNames[i - 1]) for i in net.getUnconnectedOutLayers()]\n",
    "        outputs = net.forward(outputNames)\n",
    "        findObjects(outputs, img)\n",
    "\n",
    "        cv.imshow('Image', img)\n",
    "        cv.waitKey(1)                  ###delay in reading one milli sec\n"
   ]
  },
  {
   "cell_type": "code",
   "execution_count": null,
   "id": "af52ba83",
   "metadata": {},
   "outputs": [],
   "source": []
  }
 ],
 "metadata": {
  "kernelspec": {
   "display_name": "Python 3 (ipykernel)",
   "language": "python",
   "name": "python3"
  },
  "language_info": {
   "codemirror_mode": {
    "name": "ipython",
    "version": 3
   },
   "file_extension": ".py",
   "mimetype": "text/x-python",
   "name": "python",
   "nbconvert_exporter": "python",
   "pygments_lexer": "ipython3",
   "version": "3.9.7"
  }
 },
 "nbformat": 4,
 "nbformat_minor": 5
}
