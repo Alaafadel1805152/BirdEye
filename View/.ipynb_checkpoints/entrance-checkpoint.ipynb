{
 "cells": [
  {
   "cell_type": "code",
   "execution_count": 1,
   "id": "2b3d6e6d",
   "metadata": {},
   "outputs": [],
   "source": [
    "import time\n",
    "from pathlib import Path\n",
    "from tkinter import Tk, Canvas, Entry, Text, Button, PhotoImage"
   ]
  },
  {
   "cell_type": "code",
   "execution_count": 2,
   "id": "03e489d9",
   "metadata": {},
   "outputs": [
    {
     "ename": "NameError",
     "evalue": "name '__file__' is not defined",
     "output_type": "error",
     "traceback": [
      "\u001b[1;31m---------------------------------------------------------------------------\u001b[0m",
      "\u001b[1;31mNameError\u001b[0m                                 Traceback (most recent call last)",
      "Input \u001b[1;32mIn [2]\u001b[0m, in \u001b[0;36m<cell line: 1>\u001b[1;34m()\u001b[0m\n\u001b[1;32m----> 1\u001b[0m OUTPUT_PATH \u001b[38;5;241m=\u001b[39m Path(\u001b[38;5;18;43m__file__\u001b[39;49m)\u001b[38;5;241m.\u001b[39mparent\n\u001b[0;32m      2\u001b[0m ASSETS_PATH \u001b[38;5;241m=\u001b[39m OUTPUT_PATH \u001b[38;5;241m/\u001b[39m Path(\u001b[38;5;124m\"\u001b[39m\u001b[38;5;124m./assets\u001b[39m\u001b[38;5;124m\"\u001b[39m)\n\u001b[0;32m      5\u001b[0m \u001b[38;5;28;01mdef\u001b[39;00m \u001b[38;5;21mrelative_to_assets\u001b[39m(path: \u001b[38;5;28mstr\u001b[39m) \u001b[38;5;241m-\u001b[39m\u001b[38;5;241m>\u001b[39m Path:\n",
      "\u001b[1;31mNameError\u001b[0m: name '__file__' is not defined"
     ]
    }
   ],
   "source": [
    "OUTPUT_PATH = Path(__file__).parent\n",
    "ASSETS_PATH = OUTPUT_PATH / Path(\"./assets\")\n",
    "\n",
    "\n",
    "def relative_to_assets(path: str) -> Path:\n",
    "    return ASSETS_PATH / Path(path)\n",
    "\n",
    "\n",
    "window = Tk()\n",
    "\n",
    "def nextPage():\n",
    "    window.destroy()\n",
    "    import signup\n",
    "\n",
    "# window.after(1000, callback=nextPage)\n",
    "window.after(3000,lambda: nextPage())\n",
    "\n",
    "\n",
    "window.geometry(\"1531x828\")\n",
    "window.configure(bg = \"#FFFFFF\")\n",
    "\n",
    "\n",
    "canvas = Canvas(\n",
    "    window,\n",
    "    bg = \"#FFFFFF\",\n",
    "    height = 828,\n",
    "    width = 1531,\n",
    "    bd = 0,\n",
    "    highlightthickness = 0,\n",
    "    relief = \"ridge\"\n",
    ")\n",
    "\n",
    "canvas.place(x = 0, y = 0)\n",
    "canvas.create_rectangle(\n",
    "    0.0,\n",
    "    0.0,\n",
    "    1531.0,\n",
    "    828.0,\n",
    "    fill=\"#023E8A\",\n",
    "    outline=\"\")\n",
    "\n",
    "image_image_1 = PhotoImage(\n",
    "    file=relative_to_assets(\"intrance_image_1.png\"))\n",
    "image_1 = canvas.create_image(\n",
    "    768.0,\n",
    "    312.0,\n",
    "    image=image_image_1\n",
    ")\n",
    "\n",
    "canvas.create_text(\n",
    "    538.0,\n",
    "    595.0,\n",
    "    anchor=\"nw\",\n",
    "    text=\"BirdEye\",\n",
    "    fill=\"#FFFFFF\",\n",
    "    font=(\"Satisfy Regular\", 144 * -1)\n",
    ")\n",
    "window.resizable(False, False)\n",
    "window.mainloop()"
   ]
  },
  {
   "cell_type": "code",
   "execution_count": null,
   "id": "45fdbb92",
   "metadata": {},
   "outputs": [],
   "source": []
  }
 ],
 "metadata": {
  "kernelspec": {
   "display_name": "Python 3 (ipykernel)",
   "language": "python",
   "name": "python3"
  },
  "language_info": {
   "codemirror_mode": {
    "name": "ipython",
    "version": 3
   },
   "file_extension": ".py",
   "mimetype": "text/x-python",
   "name": "python",
   "nbconvert_exporter": "python",
   "pygments_lexer": "ipython3",
   "version": "3.9.12"
  }
 },
 "nbformat": 4,
 "nbformat_minor": 5
}
