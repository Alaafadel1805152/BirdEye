{
 "cells": [
  {
   "cell_type": "code",
   "execution_count": 2,
   "id": "2b3d6e6d",
   "metadata": {
    "pycharm": {
     "name": "#%%\n"
    }
   },
   "outputs": [],
   "source": [
    "import time\n",
    "from pathlib import Path\n",
    "from tkinter import Tk, Canvas, Entry, Text, Button, PhotoImage\n",
    "import os"
   ]
  },
  {
   "cell_type": "code",
   "execution_count": 3,
   "id": "03e489d9",
   "metadata": {
    "pycharm": {
     "name": "#%%\n"
    }
   },
   "outputs": [
    {
     "name": "stderr",
     "output_type": "stream",
     "text": [
      "Exception in Tkinter callback\n",
      "Traceback (most recent call last):\n",
      "  File \"C:\\ProgramData\\Anaconda3\\envs\\Raheem\\lib\\tkinter\\__init__.py\", line 1892, in __call__\n",
      "    return self.func(*args)\n",
      "  File \"C:\\ProgramData\\Anaconda3\\envs\\Raheem\\lib\\tkinter\\__init__.py\", line 814, in callit\n",
      "    func(*args)\n",
      "  File \"C:\\Users\\RAHEEM2000\\AppData\\Local\\Temp\\ipykernel_20352\\2911350345.py\", line 17, in <lambda>\n",
      "    window.after(3000,lambda: nextPage())\n",
      "  File \"C:\\Users\\RAHEEM2000\\AppData\\Local\\Temp\\ipykernel_20352\\2911350345.py\", line 14, in nextPage\n",
      "    import signup\n",
      "  File \"C:\\Users\\RAHEEM2000\\Documents\\BirdEye\\BirdEye\\View\\signup.py\", line 219, in <module>\n",
      "    a= Database.add_row('accounts', 'user1' , '12345678')\n",
      "TypeError: add_row() missing 1 required positional argument: 'password'\n"
     ]
    }
   ],
   "source": [
    "OUTPUT_PATH = os.path.abspath('__file__')\n",
    "ASSETS_PATH = OUTPUT_PATH / Path(\"./assets\")\n",
    "\n",
    "\n",
    "\n",
    "def relative_to_assets(path: str) -> Path:\n",
    "    return ASSETS_PATH / Path(path)\n",
    "\n",
    "\n",
    "window = Tk()\n",
    "\n",
    "def nextPage():\n",
    "    window.destroy()\n",
    "    import signup\n",
    "\n",
    "# window.after(1000, callback=nextPage)\n",
    "window.after(3000,lambda: nextPage())\n",
    "\n",
    "\n",
    "window.geometry(\"1531x828\")\n",
    "window.configure(bg = \"#FFFFFF\")\n",
    "\n",
    "\n",
    "canvas = Canvas(\n",
    "    window,\n",
    "    bg = \"#FFFFFF\",\n",
    "    height = 828,\n",
    "    width = 1531,\n",
    "    bd = 0,\n",
    "    highlightthickness = 0,\n",
    "    relief = \"ridge\"\n",
    ")\n",
    "\n",
    "canvas.place(x = 0, y = 0)\n",
    "canvas.create_rectangle(\n",
    "    0.0,\n",
    "    0.0,\n",
    "    1531.0,\n",
    "    828.0,\n",
    "    fill=\"#023E8A\",\n",
    "    outline=\"\")\n",
    "\n",
    "image_image_1 = PhotoImage(\n",
    "    file=relative_to_assets('C:/Users/RAHEEM2000/Documents/BirdEye/BirdEye/View/assets/intrance_image_1.png'))\n",
    "image_1 = canvas.create_image(\n",
    "    768.0,\n",
    "    312.0,\n",
    "    image=image_image_1\n",
    ")\n",
    "\n",
    "canvas.create_text(\n",
    "    538.0,\n",
    "    595.0,\n",
    "    anchor=\"nw\",\n",
    "    text=\"BirdEye\",\n",
    "    fill=\"#FFFFFF\",\n",
    "    font=(\"Satisfy Regular\", 144 * -1)\n",
    ")\n",
    "window.resizable(False, False)\n",
    "window.mainloop()"
   ]
  },
  {
   "cell_type": "code",
   "execution_count": 4,
   "id": "45fdbb92",
   "metadata": {
    "pycharm": {
     "name": "#%%\n"
    }
   },
   "outputs": [],
   "source": []
  }
 ],
 "metadata": {
  "kernelspec": {
   "display_name": "Python 3 (ipykernel)",
   "language": "python",
   "name": "python3"
  },
  "language_info": {
   "codemirror_mode": {
    "name": "ipython",
    "version": 3
   },
   "file_extension": ".py",
   "mimetype": "text/x-python",
   "name": "python",
   "nbconvert_exporter": "python",
   "pygments_lexer": "ipython3",
   "version": "3.9.12"
  }
 },
 "nbformat": 4,
 "nbformat_minor": 5
}