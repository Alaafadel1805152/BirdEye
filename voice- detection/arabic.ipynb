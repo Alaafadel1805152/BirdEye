{
 "cells": [
  {
   "cell_type": "code",
   "execution_count": null,
   "metadata": {},
   "outputs": [],
   "source": [
    "import speech_recognition as sr\n",
    "import os\n",
    "\n",
    "\n",
    "fileName = input(\"give a file name: \") + \".txt\"\n",
    "r = sr.Recognizer()\n",
    "\n",
    "with sr.Microphone() as source:\n",
    "    print('Say Something:')\n",
    "    audio = r.listen(source)\n",
    "    print ('Done!')\n",
    "\n",
    "\n",
    "    text = r.recognize_google(audio, language='ar-EG')\n",
    "    print(text)\n",
    "\n",
    "\n",
    "myFile = open(fileName, 'w',encoding=\"utf-8\")\n",
    "myFile.write(text)\n",
    "myFile.close()\n",
    "\n",
    "os.startfile(fileName)"
   ]
  },
  {
   "cell_type": "code",
   "execution_count": null,
   "metadata": {},
   "outputs": [],
   "source": [
    "list=[\"انا\",\"رحيم\"]\n",
    "file = open(\"C:/Users/RAHEEM2000/Desktop/BirdEye/BirdEye/voice- detection/\"+fileName, \"r\")\n",
    "#read content of file to string\n",
    "data = file.read()\n",
    "for i in list:\n",
    "    #get number of occurrences of the substring in the string\n",
    "    occurrences = data.count(i)\n",
    "    print('word : {} | count : {}'.format(i, occurrences))"
   ]
  }
 ],
 "metadata": {
  "kernelspec": {
   "display_name": "Python 3",
   "language": "python",
   "name": "python3"
  },
  "language_info": {
   "codemirror_mode": {
    "name": "ipython",
    "version": 3
   },
   "file_extension": ".py",
   "mimetype": "text/x-python",
   "name": "python",
   "nbconvert_exporter": "python",
   "pygments_lexer": "ipython3",
   "version": "3.8.5"
  }
 },
 "nbformat": 4,
 "nbformat_minor": 4
}
