{
 "cells": [
  {
   "cell_type": "code",
   "execution_count": 2,
   "id": "836d6685",
   "metadata": {},
   "outputs": [
    {
     "name": "stdout",
     "output_type": "stream",
     "text": [
      "give a file name: raheem\n",
      "Say Something:\n",
      "Done!\n",
      "do baby pull me closer in the backseat of your Rover that I know you can't afford bite that tattoo on your shoulder\n"
     ]
    }
   ],
   "source": [
    "import speech_recognition as sr\n",
    "import os\n",
    "\n",
    "\n",
    "fileName = input(\"give a file name: \") + \".txt\"\n",
    "r = sr.Recognizer()\n",
    "\n",
    "with sr.Microphone() as source:\n",
    "    print('Say Something:')\n",
    "    audio = r.listen(source)\n",
    "    print ('Done!')\n",
    "\n",
    "\n",
    "    text = r.recognize_google(audio, language='eng')\n",
    "    print(text)\n",
    "\n",
    "\n",
    "myFile = open(fileName, 'w',encoding=\"utf-8\")\n",
    "myFile.write(text)\n",
    "myFile.close()\n",
    "\n",
    "os.startfile(fileName)"
   ]
  },
  {
   "cell_type": "code",
   "execution_count": null,
   "id": "ce6e4015",
   "metadata": {},
   "outputs": [],
   "source": []
  }
 ],
 "metadata": {
  "kernelspec": {
   "display_name": "Python 3",
   "language": "python",
   "name": "python3"
  },
  "language_info": {
   "codemirror_mode": {
    "name": "ipython",
    "version": 3
   },
   "file_extension": ".py",
   "mimetype": "text/x-python",
   "name": "python",
   "nbconvert_exporter": "python",
   "pygments_lexer": "ipython3",
   "version": "3.6.13"
  }
 },
 "nbformat": 4,
 "nbformat_minor": 5
}
