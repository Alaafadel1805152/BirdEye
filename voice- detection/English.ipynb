{
 "cells": [
  {
   "cell_type": "code",
   "execution_count": null,
   "id": "1b16b1ea",
   "metadata": {},
   "outputs": [],
   "source": [
    "import speech_recognition as sr\n",
    "import os\n",
    "import time\n",
    "\n",
    "fileName = input(\"give a file name: \") + \".txt\"\n",
    "r = sr.Recognizer()\n",
    "timeout = 30\n",
    "timeout_start = time.time()\n",
    "with sr.Microphone() as source:\n",
    "    print('Say Something:')\n",
    "    while time.time() < timeout_start + timeout:\n",
    "        audio = r.listen(source)\n",
    "    print ('Done!')\n",
    "\n",
    "\n",
    "    text = r.recognize_google(audio, language='eng')\n",
    "    print(text)\n",
    "\n",
    "\n",
    "myFile = open(fileName, 'w',encoding=\"utf-8\")\n",
    "myFile.write(text)\n",
    "myFile.close()"
   ]
  },
  {
   "cell_type": "code",
   "execution_count": null,
   "id": "8a52fe74",
   "metadata": {},
   "outputs": [],
   "source": [
    "list=[\"my\",\"Raheem\",\"question\"]\n",
    "file = open(\"C:/Users/RAHEEM2000/Desktop/BirdEye/BirdEye/voice- detection/\"+fileName, \"r\")\n",
    "#read content of file to string\n",
    "data = file.read()\n",
    "y=0\n",
    "for i in list:\n",
    "    #get number of occurrences of the substring in the string\n",
    "    occurrences = data.count(i)\n",
    "    y+=1\n",
    "    print('word : {} | count : {}'.format(i, occurrences))\n",
    "print(\"you have \"+str(y)+\" alerts you need to check in this file\")"
   ]
  },
  {
   "cell_type": "code",
   "execution_count": null,
   "id": "7fbc22ef",
   "metadata": {},
   "outputs": [],
   "source": []
  }
 ],
 "metadata": {
  "kernelspec": {
   "display_name": "Python 3 (ipykernel)",
   "language": "python",
   "name": "python3"
  },
  "language_info": {
   "codemirror_mode": {
    "name": "ipython",
    "version": 3
   },
   "file_extension": ".py",
   "mimetype": "text/x-python",
   "name": "python",
   "nbconvert_exporter": "python",
   "pygments_lexer": "ipython3",
   "version": "3.9.7"
  }
 },
 "nbformat": 4,
 "nbformat_minor": 5
}
