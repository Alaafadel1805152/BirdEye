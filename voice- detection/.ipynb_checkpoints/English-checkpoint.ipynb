{
 "cells": [
  {
   "cell_type": "code",
   "execution_count": 2,
   "metadata": {},
   "outputs": [
    {
     "name": "stdout",
     "output_type": "stream",
     "text": [
      "give a file name: sasa3\n",
      "Say Something:\n",
      "Done!\n",
      "my name is Raheem\n"
     ]
    }
   ],
   "source": [
    "import speech_recognition as sr\n",
    "import os\n",
    "\n",
    "\n",
    "fileName = input(\"give a file name: \") + \".txt\"\n",
    "r = sr.Recognizer()\n",
    "\n",
    "with sr.Microphone() as source:\n",
    "    print('Say Something:')\n",
    "    audio = r.listen(source)\n",
    "    print ('Done!')\n",
    "\n",
    "\n",
    "    text = r.recognize_google(audio, language='eng')\n",
    "    print(text)\n",
    "\n",
    "\n",
    "myFile = open(fileName, 'w',encoding=\"utf-8\")\n",
    "myFile.write(text)\n",
    "myFile.close()"
   ]
  },
  {
   "cell_type": "code",
   "execution_count": 3,
   "metadata": {},
   "outputs": [
    {
     "name": "stdout",
     "output_type": "stream",
     "text": [
      "word : my | count : 1\n",
      "word : Raheem | count : 1\n"
     ]
    }
   ],
   "source": [
    "list=[\"my\",\"Raheem\"]\n",
    "file = open(\"C:/Users/RAHEEM2000/Desktop/BirdEye/BirdEye/voice- detection/\"+fileName, \"r\")\n",
    "#read content of file to string\n",
    "data = file.read()\n",
    "for i in list:\n",
    "    #get number of occurrences of the substring in the string\n",
    "    occurrences = data.count(i)\n",
    "    print('word : {} | count : {}'.format(i, occurrences))"
   ]
  },
  {
   "cell_type": "code",
   "execution_count": null,
   "metadata": {},
   "outputs": [],
   "source": []
  }
 ],
 "metadata": {
  "kernelspec": {
   "display_name": "Python 3",
   "language": "python",
   "name": "python3"
  },
  "language_info": {
   "codemirror_mode": {
    "name": "ipython",
    "version": 3
   },
   "file_extension": ".py",
   "mimetype": "text/x-python",
   "name": "python",
   "nbconvert_exporter": "python",
   "pygments_lexer": "ipython3",
   "version": "3.8.5"
  }
 },
 "nbformat": 4,
 "nbformat_minor": 5
}
