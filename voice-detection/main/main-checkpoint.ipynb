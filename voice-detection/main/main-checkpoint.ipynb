{
 "cells": [
  {
   "cell_type": "code",
   "execution_count": 1,
   "id": "631ba546",
   "metadata": {},
   "outputs": [
    {
     "name": "stdout",
     "output_type": "stream",
     "text": [
      "A moment of silence, please...\n",
      "Set minimum energy threshold to 68.91880959330929\n",
      "Say something!\n",
      "Got it! Now to recognize it...\n",
      "You said hi\n",
      "Say something!\n"
     ]
    }
   ],
   "source": [
    "import speech_recognition as sr\n",
    "\n",
    "r = sr.Recognizer()\n",
    "m = sr.Microphone()\n",
    "\n",
    "try:\n",
    "    print(\"A moment of silence, please...\")\n",
    "    with m as source: r.adjust_for_ambient_noise(source)\n",
    "    print(\"Set minimum energy threshold to {}\".format(r.energy_threshold))\n",
    "    while True:\n",
    "        print(\"Say something!\")\n",
    "        with m as source: audio = r.listen(source)\n",
    "        print(\"Got it! Now to recognize it...\")\n",
    "        try:\n",
    "            # recognize speech using Google Speech Recognition\n",
    "            value = r.recognize_google(audio)\n",
    "\n",
    "            # we need some special handling here to correctly print unicode characters to standard output\n",
    "            if str is bytes:  # this version of Python uses bytes for strings (Python 2)\n",
    "                print(u\"You said {}\".format(value).encode(\"utf-8\"))\n",
    "            else:  # this version of Python uses unicode for strings (Python 3+)\n",
    "                print(\"You said {}\".format(value))\n",
    "        except sr.UnknownValueError:\n",
    "            print(\"Oops! Didn't catch that\")\n",
    "        except sr.RequestError as e:\n",
    "            print(\"Uh oh! Couldn't request results from Google Speech Recognition service; {0}\".format(e))\n",
    "except KeyboardInterrupt:\n",
    "    pass\n"
   ]
  },
  {
   "cell_type": "code",
   "execution_count": null,
   "id": "cdc568a8",
   "metadata": {},
   "outputs": [],
   "source": []
  }
 ],
 "metadata": {
  "kernelspec": {
   "display_name": "Python 3",
   "language": "python",
   "name": "python3"
  },
  "language_info": {
   "codemirror_mode": {
    "name": "ipython",
    "version": 3
   },
   "file_extension": ".py",
   "mimetype": "text/x-python",
   "name": "python",
   "nbconvert_exporter": "python",
   "pygments_lexer": "ipython3",
   "version": "3.6.13"
  }
 },
 "nbformat": 4,
 "nbformat_minor": 5
}
